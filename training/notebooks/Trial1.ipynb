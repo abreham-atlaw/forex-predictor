{
 "cells": [
  {
   "cell_type": "code",
   "execution_count": 3,
   "metadata": {
    "collapsed": true
   },
   "outputs": [],
   "source": [
    "import numpy as np\n",
    "import pandas as pd\n",
    "import matplotlib.pyplot as plt\n",
    "import tensorflow as tf\n",
    "\n",
    "import os\n",
    "\n",
    "from training.lib.layers import MovingAverage"
   ]
  },
  {
   "cell_type": "code",
   "execution_count": 137,
   "metadata": {},
   "outputs": [],
   "source": [
    "DATA_PATH = os.path.abspath(\"training/Data/daily_csv.csv\")\n",
    "COUNTRY = \"South Africa\"\n",
    "AVERAGING_GAP = 14"
   ]
  },
  {
   "cell_type": "code",
   "execution_count": 138,
   "metadata": {},
   "outputs": [],
   "source": [
    "def load_data(country=COUNTRY) -> np.ndarray:\n",
    "\tdf = pd.read_csv(DATA_PATH)\n",
    "\tdf = df[df[\"Country\"] == country]\n",
    "\tdf = df.dropna()\n",
    "\treturn df[\"Value\"].to_numpy()\n"
   ]
  },
  {
   "cell_type": "code",
   "execution_count": 139,
   "metadata": {},
   "outputs": [],
   "source": [
    "data = load_data()"
   ]
  },
  {
   "cell_type": "code",
   "execution_count": 116,
   "metadata": {},
   "outputs": [],
   "source": [
    "def simulate_moving_average_trade(averaging_gap) -> float:\n",
    "\tamount = 100.0\n",
    "\tmoving_average = MovingAverage(averaging_gap)(data.reshape((1, -1, 1))).numpy().reshape((-1,))\n",
    "\t\n",
    "\tfor i in range(365):\n",
    "\t\tif moving_average[i+1] > moving_average[i]:\n",
    "\t\t\tp = 1\n",
    "\t\telif moving_average[i+1] < moving_average[i]:\n",
    "\t\t\tp = -1\n",
    "\t\telse:\n",
    "\t\t\tp = 0\n",
    "\t\tratio = (data[averaging_gap + i]/data[averaging_gap + i - 1])**p\n",
    "\t\t\n",
    "\t\tamount *= ratio\n",
    "\t\t\n",
    "\treturn amount\n"
   ]
  },
  {
   "cell_type": "code",
   "execution_count": 122,
   "metadata": {},
   "outputs": [],
   "source": [
    "def calculate_max_amount(years, data=data):\n",
    "\tamount = 100\n",
    "\n",
    "\tfor i in range(len(data)-int(years*365)-1, len(data)-1):\n",
    "\t\tratio = data[i+1]/data[i]\n",
    "\t\t\n",
    "\t\tif ratio == 0:\n",
    "\t\t\tprint(\"0\")\n",
    "\t\t\n",
    "\t\tif ratio < 1:\n",
    "\t\t\tratio = 1/ratio\n",
    "\t\n",
    "\t\tamount *= ratio\n",
    "\t\n",
    "\treturn amount\n"
   ]
  },
  {
   "cell_type": "code",
   "execution_count": 123,
   "metadata": {},
   "outputs": [],
   "source": [
    "def get_max_amount_country():\n",
    "\tcountries = list(set(pd.read_csv(DATA_PATH)[\"Country\"]))\n",
    "\tmax_country = None\n",
    "\tmax_amount = None\n",
    "\tfor country in countries:\n",
    "\t\tprint(f\"\\nCountry: {country}\")\n",
    "\t\tamount = calculate_max_amount(1, data=load_data(country))\n",
    "\t\tprint(f\"Amount: {amount}\")\n",
    "\t\tif max_country is None or amount > max_amount:\n",
    "\t\t\tmax_country, max_amount = country, amount\n",
    "\t\t\n",
    "\treturn max_country, max_amount\n",
    "\t"
   ]
  },
  {
   "cell_type": "code",
   "execution_count": 156,
   "metadata": {},
   "outputs": [],
   "source": [
    "def plot_moving_average(average_gap, data=data, li=None, si=None):\n",
    "\t\n",
    "\tmoving_average = MovingAverage(average_gap)(data.reshape((1, -1, 1))).numpy().reshape((-1,))\n",
    "\t\n",
    "\tif si is None:\n",
    "\t\tsi = 0\n",
    "\tif li is None:\n",
    "\t\tli = moving_average.shape[0]\n",
    "\t\n",
    "\tplt.plot(data[average_gap-1+si:li-1])\n",
    "\tplt.plot(moving_average[si:li])\n",
    "\t"
   ]
  },
  {
   "cell_type": "code",
   "execution_count": null,
   "metadata": {},
   "outputs": [
    {
     "data": {
      "image/png": "[encoded data removed]",
      "text/plain": [
       "<Figure size 432x288 with 1 Axes>"
      ]
     },
     "metadata": {},
     "output_type": "display_data"
    }
   ],
   "source": [
    "plot_moving_average(7, si=-100, li=-(49-14))"
   ]
  },
  {
   "cell_type": "code",
   "execution_count": 153,
   "metadata": {},
   "outputs": [
    {
     "data": {
      "text/plain": [
       "8727"
      ]
     },
     "execution_count": 153,
     "metadata": {},
     "output_type": "execute_result"
    }
   ],
   "source": [
    "d.shape[0] - d.dropna().shape[0]"
   ]
  },
  {
   "cell_type": "code",
   "execution_count": 149,
   "metadata": {},
   "outputs": [
    {
     "data": {
      "text/plain": [
       "(226533, 3)"
      ]
     },
     "execution_count": 149,
     "metadata": {},
     "output_type": "execute_result"
    }
   ],
   "source": [
    "d.shape"
   ]
  },
  {
   "cell_type": "code",
   "execution_count": null,
   "metadata": {},
   "outputs": [],
   "source": []
  }
 ],
 "metadata": {
  "kernelspec": {
   "display_name": "Python 2",
   "language": "python",
   "name": "python2"
  },
  "language_info": {
   "codemirror_mode": {
    "name": "ipython",
    "version": 2
   },
   "file_extension": ".py",
   "mimetype": "text/x-python",
   "name": "python",
   "nbconvert_exporter": "python",
   "pygments_lexer": "ipython2",
   "version": "2.7.6"
  }
 },
 "nbformat": 4,
 "nbformat_minor": 0
}
